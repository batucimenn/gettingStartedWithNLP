{
 "cells": [
  {
   "cell_type": "markdown",
   "metadata": {},
   "source": [
    "Parts of speech"
   ]
  },
  {
   "cell_type": "code",
   "execution_count": 1,
   "metadata": {},
   "outputs": [],
   "source": [
    "import nltk"
   ]
  },
  {
   "cell_type": "code",
   "execution_count": 2,
   "metadata": {},
   "outputs": [],
   "source": [
    "text = \"Augusta Ada King, Countess of Lovelace (née Byron; 10 December 1815 – 27 November 1852) was an English mathematician and writer, chiefly known for her work on Charles Babbage's proposed mechanical general-purpose computer, the Analytical Engine. She was the first to recognise that the machine had applications beyond pure calculation, and to have published the first algorithm intended to be carried out by such a machine. As a result, she is often regarded as one of the first computer programmers.\""
   ]
  },
  {
   "cell_type": "code",
   "execution_count": 3,
   "metadata": {},
   "outputs": [],
   "source": [
    "tokenized = nltk.word_tokenize(text)"
   ]
  },
  {
   "cell_type": "code",
   "execution_count": 4,
   "metadata": {},
   "outputs": [
    {
     "name": "stdout",
     "output_type": "stream",
     "text": [
      "[('Augusta', 'NNP'), ('Ada', 'NNP'), ('King', 'NNP'), (',', ','), ('Countess', 'NNP'), ('of', 'IN'), ('Lovelace', 'NNP'), ('(', '('), ('née', 'JJ'), ('Byron', 'NNP'), (';', ':'), ('10', 'CD'), ('December', 'NNP'), ('1815', 'CD'), ('–', 'NNP'), ('27', 'CD'), ('November', 'NNP'), ('1852', 'CD'), (')', ')'), ('was', 'VBD'), ('an', 'DT'), ('English', 'JJ'), ('mathematician', 'NN'), ('and', 'CC'), ('writer', 'NN'), (',', ','), ('chiefly', 'NN'), ('known', 'VBN'), ('for', 'IN'), ('her', 'PRP$'), ('work', 'NN'), ('on', 'IN'), ('Charles', 'NNP'), ('Babbage', 'NNP'), (\"'s\", 'POS'), ('proposed', 'JJ'), ('mechanical', 'JJ'), ('general-purpose', 'JJ'), ('computer', 'NN'), (',', ','), ('the', 'DT'), ('Analytical', 'NNP'), ('Engine', 'NNP'), ('.', '.'), ('She', 'PRP'), ('was', 'VBD'), ('the', 'DT'), ('first', 'JJ'), ('to', 'TO'), ('recognise', 'VB'), ('that', 'IN'), ('the', 'DT'), ('machine', 'NN'), ('had', 'VBD'), ('applications', 'NNS'), ('beyond', 'IN'), ('pure', 'JJ'), ('calculation', 'NN'), (',', ','), ('and', 'CC'), ('to', 'TO'), ('have', 'VB'), ('published', 'VBN'), ('the', 'DT'), ('first', 'JJ'), ('algorithm', 'NN'), ('intended', 'VBN'), ('to', 'TO'), ('be', 'VB'), ('carried', 'VBN'), ('out', 'RP'), ('by', 'IN'), ('such', 'JJ'), ('a', 'DT'), ('machine', 'NN'), ('.', '.'), ('As', 'IN'), ('a', 'DT'), ('result', 'NN'), (',', ','), ('she', 'PRP'), ('is', 'VBZ'), ('often', 'RB'), ('regarded', 'VBN'), ('as', 'IN'), ('one', 'CD'), ('of', 'IN'), ('the', 'DT'), ('first', 'JJ'), ('computer', 'NN'), ('programmers', 'NNS'), ('.', '.')]\n"
     ]
    }
   ],
   "source": [
    "print(nltk.pos_tag(tokenized))"
   ]
  },
  {
   "cell_type": "code",
   "execution_count": null,
   "metadata": {},
   "outputs": [],
   "source": []
  }
 ],
 "metadata": {
  "kernelspec": {
   "display_name": "Python 3",
   "language": "python",
   "name": "python3"
  },
  "language_info": {
   "codemirror_mode": {
    "name": "ipython",
    "version": 3
   },
   "file_extension": ".py",
   "mimetype": "text/x-python",
   "name": "python",
   "nbconvert_exporter": "python",
   "pygments_lexer": "ipython3",
   "version": "3.8.3"
  }
 },
 "nbformat": 4,
 "nbformat_minor": 4
}
