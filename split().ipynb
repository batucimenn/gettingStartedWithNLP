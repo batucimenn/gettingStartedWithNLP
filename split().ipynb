{
 "cells": [
  {
   "cell_type": "markdown",
   "metadata": {},
   "source": [
    "Python \"split()\" method"
   ]
  },
  {
   "cell_type": "code",
   "execution_count": 1,
   "metadata": {},
   "outputs": [],
   "source": [
    "text = \"Augusta Ada King, Countess of Lovelace (née Byron; 10 December 1815 – 27 November 1852) was an English mathematician and writer, chiefly known for her work on Charles Babbage's proposed mechanical general-purpose computer, the Analytical Engine. She was the first to recognise that the machine had applications beyond pure calculation, and to have published the first algorithm intended to be carried out by such a machine. As a result, she is often regarded as one of the first computer programmers.\""
   ]
  },
  {
   "cell_type": "code",
   "execution_count": 2,
   "metadata": {},
   "outputs": [
    {
     "name": "stdout",
     "output_type": "stream",
     "text": [
      "Augusta Ada King, Countess of Lovelace (née Byron; 10 December 1815 – 27 November 1852) was an English mathematician and writer, chiefly known for her work on Charles Babbage's proposed mechanical general-purpose computer, the Analytical Engine. She was the first to recognise that the machine had applications beyond pure calculation, and to have published the first algorithm intended to be carried out by such a machine. As a result, she is often regarded as one of the first computer programmers.\n"
     ]
    }
   ],
   "source": [
    "print(text)"
   ]
  },
  {
   "cell_type": "code",
   "execution_count": 3,
   "metadata": {},
   "outputs": [
    {
     "data": {
      "text/plain": [
       "['Augusta',\n",
       " 'Ada',\n",
       " 'King,',\n",
       " 'Countess',\n",
       " 'of',\n",
       " 'Lovelace',\n",
       " '(née',\n",
       " 'Byron;',\n",
       " '10',\n",
       " 'December',\n",
       " '1815',\n",
       " '–',\n",
       " '27',\n",
       " 'November',\n",
       " '1852)',\n",
       " 'was',\n",
       " 'an',\n",
       " 'English',\n",
       " 'mathematician',\n",
       " 'and',\n",
       " 'writer,',\n",
       " 'chiefly',\n",
       " 'known',\n",
       " 'for',\n",
       " 'her',\n",
       " 'work',\n",
       " 'on',\n",
       " 'Charles',\n",
       " \"Babbage's\",\n",
       " 'proposed',\n",
       " 'mechanical',\n",
       " 'general-purpose',\n",
       " 'computer,',\n",
       " 'the',\n",
       " 'Analytical',\n",
       " 'Engine.',\n",
       " 'She',\n",
       " 'was',\n",
       " 'the',\n",
       " 'first',\n",
       " 'to',\n",
       " 'recognise',\n",
       " 'that',\n",
       " 'the',\n",
       " 'machine',\n",
       " 'had',\n",
       " 'applications',\n",
       " 'beyond',\n",
       " 'pure',\n",
       " 'calculation,',\n",
       " 'and',\n",
       " 'to',\n",
       " 'have',\n",
       " 'published',\n",
       " 'the',\n",
       " 'first',\n",
       " 'algorithm',\n",
       " 'intended',\n",
       " 'to',\n",
       " 'be',\n",
       " 'carried',\n",
       " 'out',\n",
       " 'by',\n",
       " 'such',\n",
       " 'a',\n",
       " 'machine.',\n",
       " 'As',\n",
       " 'a',\n",
       " 'result,',\n",
       " 'she',\n",
       " 'is',\n",
       " 'often',\n",
       " 'regarded',\n",
       " 'as',\n",
       " 'one',\n",
       " 'of',\n",
       " 'the',\n",
       " 'first',\n",
       " 'computer',\n",
       " 'programmers.']"
      ]
     },
     "execution_count": 3,
     "metadata": {},
     "output_type": "execute_result"
    }
   ],
   "source": [
    "text.split()"
   ]
  },
  {
   "cell_type": "code",
   "execution_count": null,
   "metadata": {},
   "outputs": [],
   "source": []
  }
 ],
 "metadata": {
  "kernelspec": {
   "display_name": "Python 3",
   "language": "python",
   "name": "python3"
  },
  "language_info": {
   "codemirror_mode": {
    "name": "ipython",
    "version": 3
   },
   "file_extension": ".py",
   "mimetype": "text/x-python",
   "name": "python",
   "nbconvert_exporter": "python",
   "pygments_lexer": "ipython3",
   "version": "3.8.3"
  }
 },
 "nbformat": 4,
 "nbformat_minor": 4
}
